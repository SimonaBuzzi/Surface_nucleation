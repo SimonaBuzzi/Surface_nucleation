{
 "cells": [
  {
   "cell_type": "markdown",
   "id": "b478eaef-d1b1-42a1-bbf4-05a48c403316",
   "metadata": {},
   "source": [
    "# Avrami fit and Lauritzen_Hoffman model"
   ]
  },
  {
   "cell_type": "code",
   "execution_count": 27,
   "id": "ceae876b-b24b-4c19-91d2-5d7b0cd2bf44",
   "metadata": {},
   "outputs": [],
   "source": [
    "import pandas as pd\n",
    "import numpy as np\n",
    "from scipy.optimize import curve_fit "
   ]
  },
  {
   "cell_type": "code",
   "execution_count": 28,
   "id": "5ebe9e6b-7923-4d11-83af-9f41d67395ff",
   "metadata": {},
   "outputs": [
    {
     "name": "stdout",
     "output_type": "stream",
     "text": [
      "Index(['time_1', 'Area_1', 'time_2', 'Area_2', 'time_3', 'Area_3', 'time_4',\n",
      "       'Area_4'],\n",
      "      dtype='object')\n",
      "    time_1  Area_1  time_2  Area_2  time_3  Area_3  time_4  Area_4\n",
      "0      0.0  0.0000     0.0  0.0000       0  0.0000     0.0  0.0000\n",
      "1      1.0  0.4924     3.0  0.3887       1  0.0000     5.0  0.0000\n",
      "2      2.0  1.3780     5.0  1.8430       3  0.0000    10.0  0.0000\n",
      "3      3.0  2.4260     7.0  2.9250       5  0.4924    15.0  0.6609\n",
      "4      4.0  3.2960    10.0  4.0230       7  0.7988    20.0  1.1240\n",
      "5      5.0  3.9530    15.0  4.9980      10  1.5420    30.0  1.6100\n",
      "6      7.0  4.7070    20.0  5.5760      15  2.7320    40.0  2.2410\n",
      "7     10.0  5.2870    25.0  5.8860      20  3.5900    50.0  3.0170\n",
      "8     15.0  5.7790    30.0  6.1240      25  4.2670    60.0  3.7710\n",
      "9     20.0  6.0900    35.0  6.3380      30  4.6720    70.0  4.1630\n",
      "10    25.0  6.3110    45.0  6.3800      40  5.3570    90.0  5.1650\n"
     ]
    }
   ],
   "source": [
    "file_path = r'C:\\Users\\20224751\\Documents\\Excel_files\\PCL_data.csv'\n",
    "\n",
    "df = pd.read_csv(file_path)\n",
    "df.columns = [col.strip() for col in df.columns]\n",
    "df = df.dropna()\n",
    "print(df.columns)\n",
    "print(df)"
   ]
  },
  {
   "cell_type": "code",
   "execution_count": 29,
   "id": "0a18fbc8-819c-4a22-b5bc-b21ab5133f94",
   "metadata": {},
   "outputs": [],
   "source": [
    "def DH(t_data, DHinf, k, tzero, n):\n",
    "    return DHinf * (1 - np.exp(-k * np.abs(t_data - tzero)**n))"
   ]
  },
  {
   "cell_type": "code",
   "execution_count": 30,
   "id": "1a762805-6bff-4400-9bad-d75c1e89be50",
   "metadata": {},
   "outputs": [],
   "source": [
    "initial_guess = 6, 0.05, 1, 1 "
   ]
  },
  {
   "cell_type": "code",
   "execution_count": 31,
   "id": "1ebbf9cf-9da2-45e4-97d1-b26fc4703659",
   "metadata": {},
   "outputs": [],
   "source": [
    "t_1 = np.array(df['time_1'])\n",
    "h_1 = np.array(df['Area_1'])\n",
    "t_2 = np.array(df['time_2'])\n",
    "h_2 = np.array(df['Area_2'])\n",
    "t_3 = np.array(df['time_3'])\n",
    "h_3 = np.array(df['Area_3'])\n",
    "t_4 = np.array(df['time_4'])\n",
    "h_4 = np.array(df['Area_4'])\n",
    "\n",
    "\n",
    "params_1, covariance_1 = curve_fit(DH, t_1, h_1, p0=initial_guess)\n",
    "params_2, covariance_2 = curve_fit(DH, t_2, h_2, p0=initial_guess)\n",
    "params_3, covariance_3 = curve_fit(DH, t_3, h_3, p0=initial_guess)\n",
    "params_4, covariance_4 = curve_fit(DH, t_4, h_3, p0=initial_guess)\n",
    "\n",
    "DHinf_1, k_1, tzero_1, n_1 = params_1\n",
    "DHinf_2, k_2, tzero_2, n_2 = params_2\n",
    "DHinf_3, k_3, tzero_3, n_3 = params_3\n",
    "DHinf_4, k_4, tzero_4, n_4 = params_4"
   ]
  },
  {
   "cell_type": "code",
   "execution_count": 32,
   "id": "1043dec2-9ff5-45fa-8f76-f9f361843dda",
   "metadata": {},
   "outputs": [
    {
     "name": "stdout",
     "output_type": "stream",
     "text": [
      "6.086902180641587 0.14368543181141852 0.2172607068069222 1.223238314044555\n",
      "6.221250513631146 0.0478465578778881 0.7401213370095301 1.3502522749343626\n",
      "5.508985166870802 0.011710493367396494 1.2843601630257537 1.5345769892747059\n",
      "5.521080172074625 0.000821440433689112 3.609277643895832 1.8585309010632796\n"
     ]
    }
   ],
   "source": [
    "print(DHinf_1, k_1, tzero_1, n_1)\n",
    "print(DHinf_2, k_2, tzero_2, n_2)\n",
    "print(DHinf_3, k_3, tzero_3, n_3)\n",
    "print(DHinf_4, k_4, tzero_4, n_4)"
   ]
  },
  {
   "cell_type": "code",
   "execution_count": 33,
   "id": "b892807e-239d-499b-a67c-0ffa0ae1eba3",
   "metadata": {},
   "outputs": [],
   "source": [
    "def fitted_DH(t_data, DHinf_fit, k_fit, tzero_fit, n_fit):\n",
    "    return DH(t_data, DHinf_fit, k_fit, tzero_fit, n_fit)"
   ]
  },
  {
   "cell_type": "code",
   "execution_count": 34,
   "id": "54b360aa-c0a0-4bf6-ae41-1cb7f053c4d3",
   "metadata": {},
   "outputs": [],
   "source": [
    "h_1_fitted = fitted_DH(t_1, DHinf_1, k_1, tzero_1, n_1)\n",
    "h_2_fitted = fitted_DH(t_2, DHinf_2, k_2, tzero_2, n_2)\n",
    "h_3_fitted = fitted_DH(t_3, DHinf_3, k_3, tzero_3, n_3)\n",
    "h_4_fitted = fitted_DH(t_4, DHinf_4, k_4, tzero_4, n_4)"
   ]
  },
  {
   "cell_type": "markdown",
   "id": "0fdd8779-ba81-4d52-9eec-4090226bfe27",
   "metadata": {},
   "source": [
    "## Linear Fit"
   ]
  },
  {
   "cell_type": "code",
   "execution_count": 35,
   "id": "c7eee492-9749-448e-b6e6-d493fcb8c3fa",
   "metadata": {},
   "outputs": [],
   "source": [
    "x_1 = np.abs(t_1 - tzero_1)\n",
    "x_2 = np.abs(t_2 - tzero_2)\n",
    "x_3 = np.abs(t_3 - tzero_3)\n",
    "x_4 = np.abs(t_4 - tzero_4)"
   ]
  },
  {
   "cell_type": "code",
   "execution_count": 36,
   "id": "10bb19b1-e808-4065-9e58-abb3f814d654",
   "metadata": {},
   "outputs": [
    {
     "name": "stdout",
     "output_type": "stream",
     "text": [
      "[ 0.21726071  0.78273929  1.78273929  2.78273929  3.78273929  4.78273929\n",
      "  6.78273929  9.78273929 14.78273929 19.78273929 24.78273929]\n",
      "[ 0.74012134  2.25987866  4.25987866  6.25987866  9.25987866 14.25987866\n",
      " 19.25987866 24.25987866 29.25987866 34.25987866 44.25987866]\n",
      "[ 1.28436016  0.28436016  1.71563984  3.71563984  5.71563984  8.71563984\n",
      " 13.71563984 18.71563984 23.71563984 28.71563984 38.71563984]\n",
      "[ 3.60927764  1.39072236  6.39072236 11.39072236 16.39072236 26.39072236\n",
      " 36.39072236 46.39072236 56.39072236 66.39072236 86.39072236]\n"
     ]
    }
   ],
   "source": [
    "print(x_1)\n",
    "print(x_2)\n",
    "print(x_3)\n",
    "print(x_4)"
   ]
  },
  {
   "cell_type": "code",
   "execution_count": 37,
   "id": "bf283620-5d38-4d7f-96c5-f203e78c7cff",
   "metadata": {},
   "outputs": [],
   "source": [
    "# filter the corresponding elements in y\n",
    "new_h_1 = h_1[h_1 < DHinf_1]\n",
    "new_h_2 = h_2[h_2 < DHinf_2]\n",
    "new_h_3 = h_3[h_3 < DHinf_3]\n",
    "new_h_4 = h_4[h_4 < DHinf_4]\n",
    "\n",
    "    \n",
    "# Filter the corresponding elements in x\n",
    "filter_x_1 = x_1[h_1 < DHinf_1]\n",
    "filter_x_2 = x_2[h_2 < DHinf_2]\n",
    "filter_x_3 = x_3[h_3 < DHinf_3]\n",
    "filter_x_4 = x_4[h_4 < DHinf_4]"
   ]
  },
  {
   "cell_type": "code",
   "execution_count": 38,
   "id": "64b6869c-320b-4a39-a13b-b5c04f42b5a6",
   "metadata": {},
   "outputs": [],
   "source": [
    "y_1 = np.log(1 - new_h_1/ DHinf_1)\n",
    "y_2 = np.log(1 - new_h_2/ DHinf_2)\n",
    "y_3 = np.log(1 - new_h_3/ DHinf_3)\n",
    "y_4 = np.log(1 - new_h_4/ DHinf_4)"
   ]
  },
  {
   "cell_type": "code",
   "execution_count": 39,
   "id": "1b51dda8-0a04-4fe4-8cdc-c4d654991152",
   "metadata": {},
   "outputs": [],
   "source": [
    "def logDH_fit(x, y):\n",
    "    k_lin, n_lin = np.polyfit(x,y,1)\n",
    "    return k_lin, n_lin"
   ]
  },
  {
   "cell_type": "code",
   "execution_count": 40,
   "id": "9a0a056e-47b2-4f95-ad8f-a3c12f837430",
   "metadata": {},
   "outputs": [],
   "source": [
    "k_lin_1, n_lin_1 = logDH_fit(filter_x_1, y_1)\n",
    "k_lin_2, n_lin_2 = logDH_fit(filter_x_2, y_2)\n",
    "k_lin_3, n_lin_3 = logDH_fit(filter_x_3, y_3)\n",
    "k_lin_4, n_lin_4 = logDH_fit(filter_x_4, y_4)"
   ]
  },
  {
   "cell_type": "code",
   "execution_count": 41,
   "id": "58afde19-a2fc-442e-a538-54b2b8bf62a5",
   "metadata": {},
   "outputs": [
    {
     "name": "stdout",
     "output_type": "stream",
     "text": [
      "slope_1: -0.20967383491153702 Avrami_index_1: 0.040079826733495715\n",
      "slope_2: -0.13921621334398862 Avrami_index_2: 0.24727140704688036\n",
      "slope_3: -0.08495441576750186 Avrami_index_3: 0.27605339494426134\n",
      "slope_4: -0.02819934318028221 Avrami_index_4: 0.2525359790699534\n"
     ]
    }
   ],
   "source": [
    "print(\"slope_1:\", k_lin_1, \"Avrami_index_1:\", n_lin_1)\n",
    "print(\"slope_2:\", k_lin_2, \"Avrami_index_2:\", n_lin_2)\n",
    "print(\"slope_3:\", k_lin_3, \"Avrami_index_3:\", n_lin_3)\n",
    "print(\"slope_4:\", k_lin_4, \"Avrami_index_4:\", n_lin_4)"
   ]
  },
  {
   "cell_type": "markdown",
   "id": "0c3f4605-c78b-4136-9511-456b01fe959c",
   "metadata": {},
   "source": [
    "## kg calculation"
   ]
  },
  {
   "cell_type": "code",
   "execution_count": 42,
   "id": "081f919b-a28c-4568-bf84-52b4c749d378",
   "metadata": {},
   "outputs": [],
   "source": [
    "area = 1.300149 * (10 ** (-12))\n",
    "T_range = [40, 42, 44, 46]\n",
    "U = 1500\n",
    "Tinf = 183.15\n",
    "T0m = 355.15\n",
    "R = 1.99"
   ]
  },
  {
   "cell_type": "code",
   "execution_count": 43,
   "id": "dce0fc35-b9e8-4747-9e55-a1c71f27eda2",
   "metadata": {},
   "outputs": [
    {
     "name": "stdout",
     "output_type": "stream",
     "text": [
      "[313.15 315.15 317.15 319.15]\n"
     ]
    }
   ],
   "source": [
    "T = np.array(T_range)\n",
    "T = T + 273.15\n",
    "print(T)"
   ]
  },
  {
   "cell_type": "code",
   "execution_count": 44,
   "id": "c6dc8c10-1165-4f57-a9d8-3deb41f0dafb",
   "metadata": {},
   "outputs": [],
   "source": [
    "slope = np.array((k_lin_1, k_lin_2, k_lin_3, k_lin_4))"
   ]
  },
  {
   "cell_type": "code",
   "execution_count": 45,
   "id": "adcbc19a-f191-4af0-b57d-48be2cb24fc6",
   "metadata": {},
   "outputs": [
    {
     "name": "stdout",
     "output_type": "stream",
     "text": [
      "[25.80634012 25.39681518 24.90290179 23.80008565]\n"
     ]
    }
   ],
   "source": [
    "logI = np.abs(slope/area)\n",
    "log_I = np.log(logI)\n",
    "print(log_I)"
   ]
  },
  {
   "cell_type": "code",
   "execution_count": 46,
   "id": "f4e98b58-1cc0-4d9a-b0c2-f83337d8f521",
   "metadata": {},
   "outputs": [],
   "source": [
    "def logIU(kg, T, T0m, f):\n",
    "    return logI0 - kg/(T*((T0m - T)*f)**2)"
   ]
  },
  {
   "cell_type": "code",
   "execution_count": 47,
   "id": "8d70e940-4ef7-49d2-b53c-004598e9a124",
   "metadata": {},
   "outputs": [
    {
     "name": "stdout",
     "output_type": "stream",
     "text": [
      "[31.604562   31.10718521 30.52804242 29.34250362]\n"
     ]
    }
   ],
   "source": [
    "Unorm = U/(R*(T-Tinf))\n",
    "y = log_I + Unorm\n",
    "print(y)"
   ]
  },
  {
   "cell_type": "code",
   "execution_count": 48,
   "id": "7c08b427-a860-41c1-9253-bdab8acee937",
   "metadata": {},
   "outputs": [],
   "source": [
    "def HL(x, kg, logI0):\n",
    "    return logI0 + (kg/x)"
   ]
  },
  {
   "cell_type": "code",
   "execution_count": 49,
   "id": "e737f922-abff-4216-9a6c-557fcc0b99cf",
   "metadata": {},
   "outputs": [
    {
     "name": "stdout",
     "output_type": "stream",
     "text": [
      "[2.06123307e-06 2.24288254e-06 2.45304147e-06 2.69809216e-06]\n"
     ]
    }
   ],
   "source": [
    "f = 2*T/(T+T0m)\n",
    "x = 1/(T*((T0m-T)*f)**2)\n",
    "print(x)"
   ]
  },
  {
   "cell_type": "code",
   "execution_count": 50,
   "id": "fcef9669-8e1e-4eea-9a10-aa9f132a73dd",
   "metadata": {},
   "outputs": [
    {
     "name": "stdout",
     "output_type": "stream",
     "text": [
      "[-3.50654798e+06  3.89343946e+01]\n"
     ]
    }
   ],
   "source": [
    "coef = np.polyfit(x,y,1)\n",
    "poly1d_fn = np.poly1d(coef)\n",
    "print(coef)"
   ]
  },
  {
   "cell_type": "code",
   "execution_count": 51,
   "id": "8a2fdbac-d6a9-4ef6-b48a-4aa1d3ce418e",
   "metadata": {},
   "outputs": [
    {
     "data": {
      "text/plain": [
       "Text(0.5, 1.0, 'Linear fit')"
      ]
     },
     "execution_count": 51,
     "metadata": {},
     "output_type": "execute_result"
    },
    {
     "data": {
      "image/png": "[encoded data removed]",
      "text/plain": [
       "<Figure size 640x480 with 1 Axes>"
      ]
     },
     "metadata": {},
     "output_type": "display_data"
    }
   ],
   "source": [
    "import matplotlib.pyplot as plt\n",
    "plt.plot(x,y, 'ro', label='Data')\n",
    "plt.plot(x, poly1d_fn(x), '--k', label='Fit')\n",
    "plt.legend()\n",
    "plt.xlabel('1/T(DTf)^2')\n",
    "plt.ylabel('lg(I)+ U/RDT')\n",
    "plt.title('Linear fit')"
   ]
  },
  {
   "cell_type": "code",
   "execution_count": null,
   "id": "bf162fbd-ee42-45db-b06b-398dee948608",
   "metadata": {},
   "outputs": [],
   "source": []
  }
 ],
 "metadata": {
  "kernelspec": {
   "display_name": "Python 3 (ipykernel)",
   "language": "python",
   "name": "python3"
  },
  "language_info": {
   "codemirror_mode": {
    "name": "ipython",
    "version": 3
   },
   "file_extension": ".py",
   "mimetype": "text/x-python",
   "name": "python",
   "nbconvert_exporter": "python",
   "pygments_lexer": "ipython3",
   "version": "3.11.5"
  }
 },
 "nbformat": 4,
 "nbformat_minor": 5
}
