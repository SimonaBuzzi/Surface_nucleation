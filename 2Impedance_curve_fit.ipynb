{
 "cells": [
  {
   "cell_type": "code",
   "execution_count": 26,
   "id": "e525a654-cb42-4b90-ba49-6d032ba04fae",
   "metadata": {},
   "outputs": [],
   "source": [
    "import matplotlib.pyplot as plt\n",
    "from impedance.visualization import plot_nyquist\n",
    "import pandas as pd\n",
    "import numpy as np"
   ]
  },
  {
   "cell_type": "code",
   "execution_count": 27,
   "id": "6a809381-d9b9-42d1-b305-67972bc49123",
   "metadata": {
    "tags": []
   },
   "outputs": [
    {
     "name": "stdout",
     "output_type": "stream",
     "text": [
      "        freq/Hz  Re(Z)/Ohm  Im(Z)/Ohm\n",
      "0   200000.0000      0.431   -2.43000\n",
      "1   135000.0000      0.413   -1.65000\n",
      "2    91700.0000      0.408   -1.11000\n",
      "3    62100.0000      0.407   -0.73500\n",
      "4    42100.0000      0.411   -0.47700\n",
      "5    28500.0000      0.418   -0.29500\n",
      "6    19300.0000      0.431   -0.16500\n",
      "7    13100.0000      0.448   -0.06820\n",
      "8     8850.0000      0.470    0.00514\n",
      "9     5990.0000      0.498    0.06530\n",
      "10    4060.0000      0.532    0.11800\n",
      "11    2750.0000      0.578    0.16700\n",
      "12    1860.0000      0.638    0.21100\n",
      "13    1260.0000      0.715    0.24300\n",
      "14     853.0000      0.801    0.25400\n",
      "15     578.0000      0.884    0.24500\n",
      "16     391.0000      0.955    0.21900\n",
      "17     265.0000      1.010    0.18900\n",
      "18     179.0000      1.040    0.16300\n",
      "19     122.0000      1.070    0.14500\n",
      "20      82.3000      1.100    0.13700\n",
      "21      55.7000      1.120    0.13800\n",
      "22      37.7000      1.150    0.14500\n",
      "23      25.6000      1.180    0.16100\n",
      "24      17.3000      1.220    0.17900\n",
      "25      11.7000      1.270    0.19600\n",
      "26       7.9400      1.320    0.21500\n",
      "27       5.3700      1.380    0.22900\n",
      "28       3.6400      1.450    0.23600\n",
      "29       2.4700      1.520    0.23600\n",
      "30       1.6700      1.590    0.22400\n",
      "31       1.1300      1.650    0.20700\n",
      "32       0.7660      1.700    0.18700\n",
      "33       0.5190      1.740    0.16900\n",
      "34       0.3510      1.780    0.15100\n",
      "35       0.2380      1.820    0.13500\n",
      "36       0.1610      1.850    0.11600\n",
      "37       0.1090      1.880    0.09720\n",
      "38       0.0658      1.910    0.07370\n",
      "39       0.0444      1.930    0.05550\n",
      "40       0.0300      1.940    0.04210\n"
     ]
    }
   ],
   "source": [
    "# Import your data.csv \n",
    "file_path = r'C:\\Users\\20224751\\Downloads\\EIS_data_py.csv'\n",
    "\n",
    "df = pd.read_csv(file_path)\n",
    "print(df.to_string()) "
   ]
  },
  {
   "cell_type": "code",
   "execution_count": 28,
   "id": "5d953c77-ce3d-4bff-a433-1850cf1366a8",
   "metadata": {
    "tags": []
   },
   "outputs": [
    {
     "name": "stdout",
     "output_type": "stream",
     "text": [
      "Index(['freq/Hz', 'Re(Z)/Ohm', 'Im(Z)/Ohm'], dtype='object')\n"
     ]
    }
   ],
   "source": [
    "# Remove white spaces from each column name\n",
    "df.columns = [col.strip() for col in df.columns]\n",
    "print(df.columns)"
   ]
  },
  {
   "cell_type": "code",
   "execution_count": 29,
   "id": "fad8ec0f-3f46-4822-8bfa-524d39e822a6",
   "metadata": {},
   "outputs": [
    {
     "data": {
      "text/plain": [
       "Index(['freq/Hz', 'Re(Z)/Ohm', 'Im(Z)/Ohm'], dtype='object')"
      ]
     },
     "execution_count": 29,
     "metadata": {},
     "output_type": "execute_result"
    }
   ],
   "source": [
    "df.columns"
   ]
  },
  {
   "cell_type": "code",
   "execution_count": 30,
   "id": "40d58ab9-58c3-4e24-8fb8-4798fcbe0d81",
   "metadata": {
    "tags": []
   },
   "outputs": [],
   "source": [
    "data = df.loc[(df['Im(Z)/Ohm'])>-0.06]"
   ]
  },
  {
   "cell_type": "code",
   "execution_count": 31,
   "id": "db598655-62a1-4b6b-9861-a77c2eae2402",
   "metadata": {},
   "outputs": [
    {
     "name": "stdout",
     "output_type": "stream",
     "text": [
      "(33,)\n"
     ]
    }
   ],
   "source": [
    "z=data['Re(Z)/Ohm'].values-1j*data['Im(Z)/Ohm'].values\n",
    "print(z.shape)"
   ]
  },
  {
   "cell_type": "code",
   "execution_count": 32,
   "id": "3da14fe7-d842-4b0d-ae1a-200281d608d4",
   "metadata": {},
   "outputs": [
    {
     "name": "stdout",
     "output_type": "stream",
     "text": [
      "(33,)\n"
     ]
    }
   ],
   "source": [
    "f_data = df.loc[(df['freq/Hz'])<13100.0000] #<13000\n",
    "a_f= np.array(f_data['freq/Hz'])\n",
    "print(a_f.shape)"
   ]
  },
  {
   "cell_type": "code",
   "execution_count": 33,
   "id": "e629dd28-f953-4c07-8153-f0d00e5253ae",
   "metadata": {},
   "outputs": [
    {
     "data": {
      "image/png": "[encoded data removed]",
      "text/plain": [
       "<Figure size 640x480 with 1 Axes>"
      ]
     },
     "metadata": {},
     "output_type": "display_data"
    }
   ],
   "source": [
    "fig, ax = plt.subplots()\n",
    "ax.plot(z.real, -z.imag, marker='o',mfc='none',ls='none')\n",
    "ax.set_xlabel(r'Z$_{real}$', size=14)\n",
    "ax.set_ylabel(r'-Z$_{imag}$',size=14)\n",
    "ax.set_aspect('equal')\n",
    "plt.grid()"
   ]
  },
  {
   "cell_type": "code",
   "execution_count": 68,
   "id": "60e02a1c-356e-4aeb-9944-d66e5cc04358",
   "metadata": {},
   "outputs": [],
   "source": [
    "# Circuit for the fit\n",
    "from impedance.models.circuits import CustomCircuit\n",
    "\n",
    "circuit = 'R0-p(R1,CPE1)-p(R2-Wo1,CPE2)'\n",
    "initial_guess = [1e-9, .05, 1e-5, 0.1, .5, .05, 1, 1e-2, 0.8]\n",
    "\n",
    "circuit = CustomCircuit(circuit, initial_guess=initial_guess)"
   ]
  },
  {
   "cell_type": "markdown",
   "id": "43f5b1cf-9db5-47c3-9b9d-54eedf09a595",
   "metadata": {
    "tags": []
   },
   "source": [
    "### Fitting"
   ]
  },
  {
   "cell_type": "markdown",
   "id": "3a6220b2-cd08-4732-afb1-cc13c94d3606",
   "metadata": {},
   "source": [
    "Freq is used in the model together with Z (impedance- uses ReZ and ImZ)"
   ]
  },
  {
   "cell_type": "code",
   "execution_count": 62,
   "id": "86b8009e-9aed-4920-9b46-a6a1d505e83e",
   "metadata": {},
   "outputs": [
    {
     "name": "stdout",
     "output_type": "stream",
     "text": [
      "(33,)\n",
      "(33,)\n"
     ]
    }
   ],
   "source": [
    "print(z.shape)\n",
    "print(a_f.shape)"
   ]
  },
  {
   "cell_type": "code",
   "execution_count": 63,
   "id": "b5e970e1-95e0-4f2d-9a24-f20675449ac6",
   "metadata": {
    "tags": []
   },
   "outputs": [
    {
     "name": "stdout",
     "output_type": "stream",
     "text": [
      "\n",
      "Circuit string: R0-p(R1,CPE1)-p(R2-Wo1,CPE2)\n",
      "Fit: True\n",
      "\n",
      "Initial guesses:\n",
      "     R0 = 1.00e-09 [Ohm]\n",
      "     R1 = 5.00e-02 [Ohm]\n",
      "  CPE1_0 = 1.00e-05 [Ohm^-1 sec^a]\n",
      "  CPE1_1 = 1.00e-01 []\n",
      "     R2 = 5.00e-01 [Ohm]\n",
      "  Wo1_0 = 5.00e-02 [Ohm]\n",
      "  Wo1_1 = 1.00e+00 [sec]\n",
      "  CPE2_0 = 1.00e-02 [Ohm^-1 sec^a]\n",
      "  CPE2_1 = 8.00e-01 []\n",
      "\n",
      "Fit parameters:\n",
      "     R0 = 4.93e-01  (+/- 7.93e-03) [Ohm]\n",
      "     R1 = 9.66e-01  (+/- 3.30e-02) [Ohm]\n",
      "  CPE1_0 = 1.99e-01  (+/- 8.38e-03) [Ohm^-1 sec^a]\n",
      "  CPE1_1 = 5.72e-01  (+/- 1.96e-02) []\n",
      "     R2 = 5.15e-01  (+/- 1.96e-02) [Ohm]\n",
      "  Wo1_0 = 4.68e-10  (+/- 6.36e-02) [Ohm]\n",
      "  Wo1_1 = 7.22e+01  (+/- 3.51e-13) [sec]\n",
      "  CPE2_0 = 4.62e-04  (+/- 8.76e-05) [Ohm^-1 sec^a]\n",
      "  CPE2_1 = 9.62e-01  (+/- 2.45e-02) []\n",
      "\n"
     ]
    }
   ],
   "source": [
    "# Fit results\n",
    "circuit.fit(a_f, z)\n",
    "print(circuit)"
   ]
  },
  {
   "cell_type": "code",
   "execution_count": 64,
   "id": "f4dbf7cf-314f-4d39-8778-a2b15beb281f",
   "metadata": {
    "tags": []
   },
   "outputs": [
    {
     "name": "stdout",
     "output_type": "stream",
     "text": [
      "[0.50946543-0.06512047j 0.5196172 -0.09151661j 0.5377566 -0.12663042j\n",
      " 0.56984609-0.17034876j 0.62333536-0.21767171j 0.70124755-0.25568214j\n",
      " 0.79534061-0.26935139j 0.88549392-0.25423851j 0.95647607-0.22171246j\n",
      " 1.0056549 -0.18777324j 1.04014993-0.16148275j 1.06641333-0.14618373j\n",
      " 1.09119032-0.14052732j 1.11710718-0.14326204j 1.14667581-0.15242436j\n",
      " 1.18117182-0.16603898j 1.22242121-0.1825278j  1.27048839-0.19966696j\n",
      " 1.32483139-0.21519751j 1.38550438-0.2272723j  1.44992249-0.2339112j\n",
      " 1.51583695-0.23407915j 1.58134005-0.227483j   1.64312115-0.21481974j\n",
      " 1.69909245-0.19757361j 1.7484488 -0.17738583j 1.79091397-0.1558629j\n",
      " 1.82625509-0.13465987j 1.85555284-0.1145268j  1.8793446 -0.09625923j\n",
      " 1.9034386 -0.07578282j 1.91798692-0.06234235j 1.92955871-0.05101215j]\n"
     ]
    }
   ],
   "source": [
    "Z_fit = circuit.predict(a_f)\n",
    "print(Z_fit)"
   ]
  },
  {
   "cell_type": "code",
   "execution_count": 65,
   "id": "17c18f11-5b9c-48bf-8e3b-c2b1347aa0c1",
   "metadata": {
    "tags": []
   },
   "outputs": [
    {
     "name": "stdout",
     "output_type": "stream",
     "text": [
      "[0.50946543 0.5196172  0.5377566  0.56984609 0.62333536 0.70124755\n",
      " 0.79534061 0.88549392 0.95647607 1.0056549  1.04014993 1.06641333\n",
      " 1.09119032 1.11710718 1.14667581 1.18117182 1.22242121 1.27048839\n",
      " 1.32483139 1.38550438 1.44992249 1.51583695 1.58134005 1.64312115\n",
      " 1.69909245 1.7484488  1.79091397 1.82625509 1.85555284 1.8793446\n",
      " 1.9034386  1.91798692 1.92955871]\n",
      "[0.06512047 0.09151661 0.12663042 0.17034876 0.21767171 0.25568214\n",
      " 0.26935139 0.25423851 0.22171246 0.18777324 0.16148275 0.14618373\n",
      " 0.14052732 0.14326204 0.15242436 0.16603898 0.1825278  0.19966696\n",
      " 0.21519751 0.2272723  0.2339112  0.23407915 0.227483   0.21481974\n",
      " 0.19757361 0.17738583 0.1558629  0.13465987 0.1145268  0.09625923\n",
      " 0.07578282 0.06234235 0.05101215]\n"
     ]
    }
   ],
   "source": [
    "Zreal_fit=Z_fit.real\n",
    "Zimm_fit=-Z_fit.imag\n",
    "print(Zreal_fit)\n",
    "print(Zimm_fit)"
   ]
  },
  {
   "cell_type": "code",
   "execution_count": 66,
   "id": "7427cf91-fcaf-4314-9e31-ea46acf941c1",
   "metadata": {
    "tags": []
   },
   "outputs": [
    {
     "name": "stdout",
     "output_type": "stream",
     "text": [
      "[0.47  0.498 0.532 0.578 0.638 0.715 0.801 0.884 0.955 1.01  1.04  1.07\n",
      " 1.1   1.12  1.15  1.18  1.22  1.27  1.32  1.38  1.45  1.52  1.59  1.65\n",
      " 1.7   1.74  1.78  1.82  1.85  1.88  1.91  1.93  1.94 ]\n",
      "[0.00514 0.0653  0.118   0.167   0.211   0.243   0.254   0.245   0.219\n",
      " 0.189   0.163   0.145   0.137   0.138   0.145   0.161   0.179   0.196\n",
      " 0.215   0.229   0.236   0.236   0.224   0.207   0.187   0.169   0.151\n",
      " 0.135   0.116   0.0972  0.0737  0.0555  0.0421 ]\n"
     ]
    }
   ],
   "source": [
    "zreal=z.real\n",
    "zimag=-z.imag\n",
    "print(zreal)\n",
    "print(zimag)"
   ]
  },
  {
   "cell_type": "code",
   "execution_count": 67,
   "id": "2aa62688-8137-4f3f-aea3-02b6c34d270a",
   "metadata": {},
   "outputs": [
    {
     "data": {
      "image/png": "[encoded data removed]",
      "text/plain": [
       "<Figure size 640x480 with 1 Axes>"
      ]
     },
     "metadata": {},
     "output_type": "display_data"
    }
   ],
   "source": [
    "fig, ax = plt.subplots()\n",
    "plt.scatter(zreal, zimag, label='Data')\n",
    "plt.plot(Zreal_fit, Zimm_fit, label='Fitted data', color='red')\n",
    "ax.set_xlabel(r'Z$_{real}$', size=14)\n",
    "ax.set_ylabel(r'-Z$_{imag}$',size=14)\n",
    "plt.title('Zreal vs -Zimm')\n",
    "ax.set_aspect('equal')\n",
    "plt.legend()\n",
    "plt.grid()\n",
    "plt.show()"
   ]
  },
  {
   "cell_type": "code",
   "execution_count": 52,
   "id": "3944367c-f7be-43a3-a692-0e2dd37cc423",
   "metadata": {},
   "outputs": [],
   "source": [
    "from sklearn.metrics import mean_squared_error\n",
    "\n",
    "mse = mean_squared_error(zimag, Zimm_fit)\n",
    "print(\"Mean Squared Error:\", mse)"
   ]
  },
  {
   "cell_type": "code",
   "execution_count": null,
   "id": "1968e3b7-4ac3-4792-b7a5-8b6cf0102521",
   "metadata": {},
   "outputs": [],
   "source": []
  }
 ],
 "metadata": {
  "kernelspec": {
   "display_name": "Python 3 (ipykernel)",
   "language": "python",
   "name": "python3"
  },
  "language_info": {
   "codemirror_mode": {
    "name": "ipython",
    "version": 3
   },
   "file_extension": ".py",
   "mimetype": "text/x-python",
   "name": "python",
   "nbconvert_exporter": "python",
   "pygments_lexer": "ipython3",
   "version": "3.11.7"
  }
 },
 "nbformat": 4,
 "nbformat_minor": 5
}
